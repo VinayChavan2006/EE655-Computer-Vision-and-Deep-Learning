{
  "cells": [
    {
      "cell_type": "markdown",
      "metadata": {
        "id": "view-in-github",
        "colab_type": "text"
      },
      "source": [
        "<a href=\"https://colab.research.google.com/github/VinayChavan2006/EE655-Computer-Vision-and-Deep-Learning/blob/main/Pytorch_practise.ipynb\" target=\"_parent\"><img src=\"https://colab.research.google.com/assets/colab-badge.svg\" alt=\"Open In Colab\"/></a>"
      ]
    },
    {
      "cell_type": "markdown",
      "source": [
        "### Pytorch Problems"
      ],
      "metadata": {
        "id": "hz3uDU9ysw_W"
      }
    },
    {
      "cell_type": "markdown",
      "source": [
        "### Level 1"
      ],
      "metadata": {
        "id": "m8ZM3N7t0W5k"
      }
    },
    {
      "cell_type": "markdown",
      "source": [
        "#### Problem 1\n",
        "##### Tensor Basics:\n",
        "\n",
        "- Create a random tensor of size (5, 3).\n",
        "- Perform element-wise addition, subtraction, multiplication, and division between two tensors of the same size.\n",
        "- Calculate the mean and standard deviation of a tensor.\n",
        "- Reshape a tensor from (4, 4) to (16,) and then back to (2, 8).\n",
        "- Convert a NumPy array to a PyTorch tensor and vice versa."
      ],
      "metadata": {
        "id": "QvGp98jDs5Ix"
      }
    },
    {
      "cell_type": "code",
      "source": [
        "import torch\n",
        "import numpy as np\n",
        "\n",
        "# create random tensor of size (5,3)\n",
        "tensor1 = torch.rand(5,3)\n",
        "print(tensor1)\n",
        "print(\"\\n\\n\")\n",
        "\n",
        "# some more tensors\n",
        "t_ones = torch.ones(4,3)\n",
        "t_zeros = torch.zeros(3,3)\n",
        "t_range = torch.arange(10,dtype=torch.float32)\n",
        "t_lin = torch.linspace(1,10,3)\n",
        "\n",
        "tensors = [t_ones,t_zeros,t_range,t_lin]\n",
        "for tensor in tensors:\n",
        "  print(tensor)\n",
        "  print(tensor.dtype,tensor.shape,tensor.dim)\n",
        "  print(\"\\n\\n\")\n",
        "\n",
        "# Element wise operations\n",
        "t1 = torch.randint(0,20,(3,4))\n",
        "t2 = torch.randint(0,25,(3,4))\n",
        "\n",
        "print(t1)\n",
        "print(t2)\n",
        "print(t1+t2)\n",
        "print(\"\\n\\n\")\n",
        "print(t1 - t2)\n",
        "print(\"\\n\\n\")\n",
        "print(t1 * t2)\n",
        "print(\"\\n\\n\")\n",
        "print(torch.div(t1,t2))\n",
        "\n",
        "# mean and std of a tensor\n",
        "ten1 = torch.Tensor([[1,2,3],[4,5,6],[7,8,9]])\n",
        "print(\"mean\",ten1.mean())\n",
        "print(\"median: \",ten1.median())\n",
        "print(\"std: \",ten1.std())\n",
        "\n",
        "\n",
        "# reshape_tensor\n",
        "re_ten = torch.randint(0,10,(4,4))\n",
        "print(re_ten)\n",
        "print(re_ten.view(16))\n",
        "print(re_ten.view(-1,8))\n",
        "\n",
        "# covert a numpy array in to torch tensor and vice versa\n",
        "np_arr = np.array([[100,200,300],[120,240,360],[200,300,400]])\n",
        "np_tens = torch.Tensor(np_arr)\n",
        "print(np_tens)\n",
        "\n",
        "tens_arr = torch.randn(3,3)\n",
        "tens_np = np.array(tens_arr)\n",
        "print(tens_np)\n"
      ],
      "metadata": {
        "colab": {
          "base_uri": "https://localhost:8080/"
        },
        "id": "2B2MAu82s7et",
        "outputId": "f99b21f0-9a90-4499-93f1-da05ea570002"
      },
      "execution_count": 33,
      "outputs": [
        {
          "output_type": "stream",
          "name": "stdout",
          "text": [
            "tensor([[0.9220, 0.5208, 0.1907],\n",
            "        [0.0296, 0.9795, 0.7871],\n",
            "        [0.2717, 0.1918, 0.3912],\n",
            "        [0.6184, 0.0376, 0.8007],\n",
            "        [0.6676, 0.3438, 0.6600]])\n",
            "\n",
            "\n",
            "\n",
            "tensor([[1., 1., 1.],\n",
            "        [1., 1., 1.],\n",
            "        [1., 1., 1.],\n",
            "        [1., 1., 1.]])\n",
            "torch.float32 torch.Size([4, 3]) <built-in method dim of Tensor object at 0x7d253c547350>\n",
            "\n",
            "\n",
            "\n",
            "tensor([[0., 0., 0.],\n",
            "        [0., 0., 0.],\n",
            "        [0., 0., 0.]])\n",
            "torch.float32 torch.Size([3, 3]) <built-in method dim of Tensor object at 0x7d253c546d50>\n",
            "\n",
            "\n",
            "\n",
            "tensor([0., 1., 2., 3., 4., 5., 6., 7., 8., 9.])\n",
            "torch.float32 torch.Size([10]) <built-in method dim of Tensor object at 0x7d253c690110>\n",
            "\n",
            "\n",
            "\n",
            "tensor([ 1.0000,  5.5000, 10.0000])\n",
            "torch.float32 torch.Size([3]) <built-in method dim of Tensor object at 0x7d25692fac90>\n",
            "\n",
            "\n",
            "\n",
            "tensor([[ 3, 12, 16,  8],\n",
            "        [16, 11,  6,  4],\n",
            "        [ 6, 12,  6,  3]])\n",
            "tensor([[20,  8,  6, 11],\n",
            "        [11, 12, 21, 16],\n",
            "        [ 7,  6, 24,  2]])\n",
            "tensor([[23, 20, 22, 19],\n",
            "        [27, 23, 27, 20],\n",
            "        [13, 18, 30,  5]])\n",
            "\n",
            "\n",
            "\n",
            "tensor([[-17,   4,  10,  -3],\n",
            "        [  5,  -1, -15, -12],\n",
            "        [ -1,   6, -18,   1]])\n",
            "\n",
            "\n",
            "\n",
            "tensor([[ 60,  96,  96,  88],\n",
            "        [176, 132, 126,  64],\n",
            "        [ 42,  72, 144,   6]])\n",
            "\n",
            "\n",
            "\n",
            "tensor([[0.1500, 1.5000, 2.6667, 0.7273],\n",
            "        [1.4545, 0.9167, 0.2857, 0.2500],\n",
            "        [0.8571, 2.0000, 0.2500, 1.5000]])\n",
            "mean tensor(5.)\n",
            "median:  tensor(5.)\n",
            "std:  tensor(2.7386)\n",
            "tensor([[5, 4, 8, 4],\n",
            "        [6, 3, 3, 5],\n",
            "        [5, 2, 0, 4],\n",
            "        [7, 5, 5, 6]])\n",
            "tensor([5, 4, 8, 4, 6, 3, 3, 5, 5, 2, 0, 4, 7, 5, 5, 6])\n",
            "tensor([[5, 4, 8, 4, 6, 3, 3, 5],\n",
            "        [5, 2, 0, 4, 7, 5, 5, 6]])\n",
            "tensor([[100., 200., 300.],\n",
            "        [120., 240., 360.],\n",
            "        [200., 300., 400.]])\n",
            "[[-0.4564456  -0.6884044   0.4732638 ]\n",
            " [ 1.8684115   0.07186848  0.24200153]\n",
            " [ 0.20247568  2.0047734   1.6954167 ]]\n"
          ]
        }
      ]
    },
    {
      "cell_type": "markdown",
      "source": [
        "#### Problem 2\n",
        "##### Simple Linear Regression:\n",
        "-\n",
        "Implement linear regression from scratch using PyTorch. Generate some synthetic data (e.g., y = 2x + 1 + noise).\n",
        "- Define a simple linear model with one input and one output.\n",
        "- Use torch.nn.MSELoss as the loss function and torch.optim.SGD for optimization.\n",
        "- Train the model for a few epochs and observe the loss decreasing."
      ],
      "metadata": {
        "id": "RXECncd0yms1"
      }
    },
    {
      "cell_type": "code",
      "source": [
        "import torch\n",
        "import torch.nn as nn\n",
        "import torch.optim as optim\n",
        "\n",
        "class LinearRegression(nn.Module):\n",
        "  def __init__(self):\n",
        "    super().__init__()\n",
        "    self.linear = nn.Linear(1,1)\n",
        "  def forward(self,X):\n",
        "    return self.linear(X)\n",
        "\n",
        "X = torch.rand(1000,1,dtype=torch.float32)\n",
        "y = 2*X + 1 + torch.randn(1000,1,dtype=torch.float32)\n",
        "X_train = X[:800]\n",
        "y_train = y[:800]\n",
        "X_test = X[800:]\n",
        "y_test = y[800:]\n",
        "\n",
        "model = LinearRegression()\n",
        "loss_func = nn.MSELoss()\n",
        "optimiser = torch.optim.SGD(model.parameters(),lr=0.1)\n",
        "\n",
        "epochs = 300\n",
        "for epoch in range(epochs):\n",
        "  # forward pass\n",
        "  y_pred = model(X_train)\n",
        "\n",
        "  # loss calc\n",
        "  loss = loss_func(y_pred,y_train)\n",
        "\n",
        "  # back propagate\n",
        "  loss.backward()\n",
        "\n",
        "  # update weights\n",
        "  optimiser.step()\n",
        "\n",
        "  # zero the grads\n",
        "  optimiser.zero_grad()\n",
        "\n",
        "  if epoch % 5 == 0:\n",
        "    print(f\"Epoch: {epoch}, Loss: {loss.item()} model params = {model.linear.weight}\")"
      ],
      "metadata": {
        "id": "FvtaXLQBzpwS",
        "outputId": "7a6c7299-0d47-425d-ae21-f22eb8c80804",
        "colab": {
          "base_uri": "https://localhost:8080/"
        }
      },
      "execution_count": 20,
      "outputs": [
        {
          "output_type": "stream",
          "name": "stdout",
          "text": [
            "Epoch: 0, Loss: 4.2718095779418945 model params = Parameter containing:\n",
            "tensor([[0.6129]], requires_grad=True)\n",
            "Epoch: 5, Loss: 1.3074816465377808 model params = Parameter containing:\n",
            "tensor([[1.0908]], requires_grad=True)\n",
            "Epoch: 10, Loss: 1.1343876123428345 model params = Parameter containing:\n",
            "tensor([[1.2450]], requires_grad=True)\n",
            "Epoch: 15, Loss: 1.1182849407196045 model params = Parameter containing:\n",
            "tensor([[1.3198]], requires_grad=True)\n",
            "Epoch: 20, Loss: 1.1118203401565552 model params = Parameter containing:\n",
            "tensor([[1.3731]], requires_grad=True)\n",
            "Epoch: 25, Loss: 1.106642484664917 model params = Parameter containing:\n",
            "tensor([[1.4189]], requires_grad=True)\n",
            "Epoch: 30, Loss: 1.1021840572357178 model params = Parameter containing:\n",
            "tensor([[1.4606]], requires_grad=True)\n",
            "Epoch: 35, Loss: 1.0983264446258545 model params = Parameter containing:\n",
            "tensor([[1.4992]], requires_grad=True)\n",
            "Epoch: 40, Loss: 1.0949875116348267 model params = Parameter containing:\n",
            "tensor([[1.5350]], requires_grad=True)\n",
            "Epoch: 45, Loss: 1.092097520828247 model params = Parameter containing:\n",
            "tensor([[1.5684]], requires_grad=True)\n",
            "Epoch: 50, Loss: 1.089595913887024 model params = Parameter containing:\n",
            "tensor([[1.5994]], requires_grad=True)\n",
            "Epoch: 55, Loss: 1.0874308347702026 model params = Parameter containing:\n",
            "tensor([[1.6282]], requires_grad=True)\n",
            "Epoch: 60, Loss: 1.0855566263198853 model params = Parameter containing:\n",
            "tensor([[1.6551]], requires_grad=True)\n",
            "Epoch: 65, Loss: 1.0839345455169678 model params = Parameter containing:\n",
            "tensor([[1.6800]], requires_grad=True)\n",
            "Epoch: 70, Loss: 1.0825306177139282 model params = Parameter containing:\n",
            "tensor([[1.7033]], requires_grad=True)\n",
            "Epoch: 75, Loss: 1.081315279006958 model params = Parameter containing:\n",
            "tensor([[1.7249]], requires_grad=True)\n",
            "Epoch: 80, Loss: 1.0802634954452515 model params = Parameter containing:\n",
            "tensor([[1.7450]], requires_grad=True)\n",
            "Epoch: 85, Loss: 1.0793529748916626 model params = Parameter containing:\n",
            "tensor([[1.7637]], requires_grad=True)\n",
            "Epoch: 90, Loss: 1.0785648822784424 model params = Parameter containing:\n",
            "tensor([[1.7811]], requires_grad=True)\n",
            "Epoch: 95, Loss: 1.0778828859329224 model params = Parameter containing:\n",
            "tensor([[1.7973]], requires_grad=True)\n",
            "Epoch: 100, Loss: 1.0772924423217773 model params = Parameter containing:\n",
            "tensor([[1.8123]], requires_grad=True)\n",
            "Epoch: 105, Loss: 1.0767815113067627 model params = Parameter containing:\n",
            "tensor([[1.8264]], requires_grad=True)\n",
            "Epoch: 110, Loss: 1.0763390064239502 model params = Parameter containing:\n",
            "tensor([[1.8394]], requires_grad=True)\n",
            "Epoch: 115, Loss: 1.0759562253952026 model params = Parameter containing:\n",
            "tensor([[1.8515]], requires_grad=True)\n",
            "Epoch: 120, Loss: 1.075624942779541 model params = Parameter containing:\n",
            "tensor([[1.8628]], requires_grad=True)\n",
            "Epoch: 125, Loss: 1.0753380060195923 model params = Parameter containing:\n",
            "tensor([[1.8733]], requires_grad=True)\n",
            "Epoch: 130, Loss: 1.0750898122787476 model params = Parameter containing:\n",
            "tensor([[1.8831]], requires_grad=True)\n",
            "Epoch: 135, Loss: 1.074874997138977 model params = Parameter containing:\n",
            "tensor([[1.8922]], requires_grad=True)\n",
            "Epoch: 140, Loss: 1.0746889114379883 model params = Parameter containing:\n",
            "tensor([[1.9006]], requires_grad=True)\n",
            "Epoch: 145, Loss: 1.0745279788970947 model params = Parameter containing:\n",
            "tensor([[1.9085]], requires_grad=True)\n",
            "Epoch: 150, Loss: 1.0743886232376099 model params = Parameter containing:\n",
            "tensor([[1.9158]], requires_grad=True)\n",
            "Epoch: 155, Loss: 1.0742679834365845 model params = Parameter containing:\n",
            "tensor([[1.9226]], requires_grad=True)\n",
            "Epoch: 160, Loss: 1.0741636753082275 model params = Parameter containing:\n",
            "tensor([[1.9290]], requires_grad=True)\n",
            "Epoch: 165, Loss: 1.074073314666748 model params = Parameter containing:\n",
            "tensor([[1.9348]], requires_grad=True)\n",
            "Epoch: 170, Loss: 1.0739951133728027 model params = Parameter containing:\n",
            "tensor([[1.9403]], requires_grad=True)\n",
            "Epoch: 175, Loss: 1.0739272832870483 model params = Parameter containing:\n",
            "tensor([[1.9454]], requires_grad=True)\n",
            "Epoch: 180, Loss: 1.073868751525879 model params = Parameter containing:\n",
            "tensor([[1.9502]], requires_grad=True)\n",
            "Epoch: 185, Loss: 1.0738180875778198 model params = Parameter containing:\n",
            "tensor([[1.9546]], requires_grad=True)\n",
            "Epoch: 190, Loss: 1.0737742185592651 model params = Parameter containing:\n",
            "tensor([[1.9587]], requires_grad=True)\n",
            "Epoch: 195, Loss: 1.0737360715866089 model params = Parameter containing:\n",
            "tensor([[1.9625]], requires_grad=True)\n",
            "Epoch: 200, Loss: 1.0737032890319824 model params = Parameter containing:\n",
            "tensor([[1.9661]], requires_grad=True)\n",
            "Epoch: 205, Loss: 1.0736747980117798 model params = Parameter containing:\n",
            "tensor([[1.9694]], requires_grad=True)\n",
            "Epoch: 210, Loss: 1.0736502408981323 model params = Parameter containing:\n",
            "tensor([[1.9725]], requires_grad=True)\n",
            "Epoch: 215, Loss: 1.0736289024353027 model params = Parameter containing:\n",
            "tensor([[1.9753]], requires_grad=True)\n",
            "Epoch: 220, Loss: 1.0736103057861328 model params = Parameter containing:\n",
            "tensor([[1.9780]], requires_grad=True)\n",
            "Epoch: 225, Loss: 1.0735944509506226 model params = Parameter containing:\n",
            "tensor([[1.9805]], requires_grad=True)\n",
            "Epoch: 230, Loss: 1.0735805034637451 model params = Parameter containing:\n",
            "tensor([[1.9828]], requires_grad=True)\n",
            "Epoch: 235, Loss: 1.0735687017440796 model params = Parameter containing:\n",
            "tensor([[1.9849]], requires_grad=True)\n",
            "Epoch: 240, Loss: 1.0735583305358887 model params = Parameter containing:\n",
            "tensor([[1.9869]], requires_grad=True)\n",
            "Epoch: 245, Loss: 1.0735492706298828 model params = Parameter containing:\n",
            "tensor([[1.9888]], requires_grad=True)\n",
            "Epoch: 250, Loss: 1.073541522026062 model params = Parameter containing:\n",
            "tensor([[1.9905]], requires_grad=True)\n",
            "Epoch: 255, Loss: 1.0735348463058472 model params = Parameter containing:\n",
            "tensor([[1.9921]], requires_grad=True)\n",
            "Epoch: 260, Loss: 1.0735290050506592 model params = Parameter containing:\n",
            "tensor([[1.9936]], requires_grad=True)\n",
            "Epoch: 265, Loss: 1.0735238790512085 model params = Parameter containing:\n",
            "tensor([[1.9950]], requires_grad=True)\n",
            "Epoch: 270, Loss: 1.0735195875167847 model params = Parameter containing:\n",
            "tensor([[1.9963]], requires_grad=True)\n",
            "Epoch: 275, Loss: 1.073515772819519 model params = Parameter containing:\n",
            "tensor([[1.9975]], requires_grad=True)\n",
            "Epoch: 280, Loss: 1.0735125541687012 model params = Parameter containing:\n",
            "tensor([[1.9986]], requires_grad=True)\n",
            "Epoch: 285, Loss: 1.0735098123550415 model params = Parameter containing:\n",
            "tensor([[1.9997]], requires_grad=True)\n",
            "Epoch: 290, Loss: 1.0735071897506714 model params = Parameter containing:\n",
            "tensor([[2.0006]], requires_grad=True)\n",
            "Epoch: 295, Loss: 1.073505163192749 model params = Parameter containing:\n",
            "tensor([[2.0015]], requires_grad=True)\n"
          ]
        }
      ]
    },
    {
      "cell_type": "code",
      "source": [
        "# evaluation\n",
        "with torch.no_grad():\n",
        "  y_pred = model(X_test)\n",
        "  loss = loss_func(y_pred,y_test)\n",
        "  print(f\"Test Loss: {loss.item()}\")"
      ],
      "metadata": {
        "id": "jX5gPbtEsI3a",
        "outputId": "aa932813-7e6b-488d-a932-183eaf311916",
        "colab": {
          "base_uri": "https://localhost:8080/"
        }
      },
      "execution_count": 21,
      "outputs": [
        {
          "output_type": "stream",
          "name": "stdout",
          "text": [
            "Test Loss: 0.9336553812026978\n"
          ]
        }
      ]
    },
    {
      "cell_type": "markdown",
      "source": [
        "#### Problem 3\n",
        "##### Basic Neural Network for Classification:\n",
        "\n",
        "- Use the MNIST dataset (available through torchvision.datasets) to train a simple neural network for digit classification.\n",
        "- Build a network with one or two fully connected layers.\n",
        "- Use torch.nn.CrossEntropyLoss as the loss function and torch.optim.Adam for optimization.\n",
        "- Train the model and calculate the accuracy on a test set."
      ],
      "metadata": {
        "id": "uJd6wrPEzr7t"
      }
    },
    {
      "cell_type": "code",
      "source": [
        "# import libraries\n",
        "import torch\n",
        "import torch.nn as nn\n",
        "import torch.optim as optim\n",
        "import torchvision\n",
        "import torchvision.transforms as transforms\n",
        "from torch.utils.data import DataLoader\n",
        "\n",
        "# check for gpu\n",
        "device = torch.device('cuda' if torch.cuda.is_available() else 'cpu')\n",
        "\n",
        "# load mnist dataset\n",
        "train_dataset = torchvision.datasets.MNIST(root='./data',train=True,transform=transforms.ToTensor(),download=True)\n",
        "test_dataset = torchvision.datasets.MNIST(root='./data',train=False,transform=transforms.ToTensor(),download=True)\n",
        "\n",
        "train_dataloader = DataLoader(train_dataset, batch_size=64, shuffle=True,pin_memory=True)\n",
        "test_dataloader = DataLoader(test_dataset, batch_size=64, shuffle=False,pin_memory=True)\n",
        "\n",
        "# model\n",
        "class NeuralNet(nn.Module):\n",
        "  def __init__(self):\n",
        "    super().__init__()\n",
        "    self.fc1 = nn.Linear(28*28,128)\n",
        "    self.relu = nn.ReLU()\n",
        "    self.fc2 = nn.Linear(128,10)\n",
        "  def forward(self,X):\n",
        "    out = X.view(-1,28*28)\n",
        "    out = self.fc1(out)\n",
        "    out = self.relu(out)\n",
        "    out = self.fc2(out)\n",
        "    out = self.relu(out)\n",
        "    out = torch.softmax(out,dim=1)\n",
        "    return out\n",
        "\n",
        "model = NeuralNet().to(device)\n",
        "\n",
        "# epochs and lr\n",
        "epochs = 50\n",
        "lr = 0.01\n",
        "\n",
        "# loss and optimiser\n",
        "loss_func = nn.CrossEntropyLoss()\n",
        "optimiser = optim.Adam(model.parameters(),lr=lr)\n",
        "\n",
        "for epoch in range(epochs):\n",
        "  for train_data,train_labels in train_dataloader:\n",
        "\n",
        "    # move data to gpu\n",
        "    train_data,train_labels = train_data.to(device),train_labels.to(device)\n",
        "\n",
        "    # forward pass\n",
        "    y_pred = model(train_data)\n",
        "\n",
        "    # loss calc\n",
        "    loss = loss_func(y_pred,train_labels)\n",
        "\n",
        "    # back propagate\n",
        "    loss.backward()\n",
        "\n",
        "    # update parameters\n",
        "    optimiser.step()\n",
        "\n",
        "    # zero grads\n",
        "    optimiser.zero_grad()\n",
        "\n",
        "  print(f\"Epoch: {epoch}, Loss: {loss.item()}\")"
      ],
      "metadata": {
        "id": "8-jHum4hz6QI",
        "outputId": "af96f831-8541-4dce-fff6-3e220b95d710",
        "colab": {
          "base_uri": "https://localhost:8080/"
        }
      },
      "execution_count": 39,
      "outputs": [
        {
          "output_type": "stream",
          "name": "stdout",
          "text": [
            "Epoch: 0, Loss: 1.5139317512512207\n",
            "Epoch: 1, Loss: 1.598649024963379\n",
            "Epoch: 2, Loss: 1.550708293914795\n",
            "Epoch: 3, Loss: 1.573744773864746\n",
            "Epoch: 4, Loss: 1.570813536643982\n",
            "Epoch: 5, Loss: 1.571285367012024\n",
            "Epoch: 6, Loss: 1.6025352478027344\n",
            "Epoch: 7, Loss: 1.6288316249847412\n",
            "Epoch: 8, Loss: 1.607490062713623\n",
            "Epoch: 9, Loss: 1.487445592880249\n",
            "Epoch: 10, Loss: 1.686124563217163\n",
            "Epoch: 11, Loss: 1.7799012660980225\n",
            "Epoch: 12, Loss: 1.602535367012024\n",
            "Epoch: 13, Loss: 1.5762405395507812\n",
            "Epoch: 14, Loss: 1.6238749027252197\n",
            "Epoch: 15, Loss: 1.6144678592681885\n",
            "Epoch: 16, Loss: 1.650169849395752\n",
            "Epoch: 17, Loss: 1.6272178888320923\n",
            "Epoch: 18, Loss: 1.6288331747055054\n",
            "Epoch: 19, Loss: 1.518695592880249\n",
            "Epoch: 20, Loss: 1.5698338747024536\n",
            "Epoch: 21, Loss: 1.5712852478027344\n",
            "Epoch: 22, Loss: 1.6424916982650757\n",
            "Epoch: 23, Loss: 1.5141994953155518\n",
            "Epoch: 24, Loss: 1.5712852478027344\n",
            "Epoch: 25, Loss: 1.611175775527954\n",
            "Epoch: 26, Loss: 1.5926249027252197\n",
            "Epoch: 27, Loss: 1.6124457120895386\n",
            "Epoch: 28, Loss: 1.6297036409378052\n",
            "Epoch: 29, Loss: 1.6156212091445923\n",
            "Epoch: 30, Loss: 1.5762403011322021\n",
            "Epoch: 31, Loss: 1.6238750219345093\n",
            "Epoch: 32, Loss: 1.5137404203414917\n",
            "Epoch: 33, Loss: 1.487445592880249\n",
            "Epoch: 34, Loss: 1.5236507654190063\n",
            "Epoch: 35, Loss: 1.5449905395507812\n",
            "Epoch: 36, Loss: 1.549945592880249\n",
            "Epoch: 37, Loss: 1.6551250219345093\n",
            "Epoch: 38, Loss: 1.566330075263977\n",
            "Epoch: 39, Loss: 1.5449905395507812\n",
            "Epoch: 40, Loss: 1.6863750219345093\n",
            "Epoch: 41, Loss: 1.5137404203414917\n",
            "Epoch: 42, Loss: 1.5715326070785522\n",
            "Epoch: 43, Loss: 1.602535367012024\n",
            "Epoch: 44, Loss: 1.5762401819229126\n",
            "Epoch: 45, Loss: 1.597580075263977\n",
            "Epoch: 46, Loss: 1.660080075263977\n",
            "Epoch: 47, Loss: 1.6699905395507812\n",
            "Epoch: 48, Loss: 1.6288301944732666\n",
            "Epoch: 49, Loss: 1.5762404203414917\n"
          ]
        }
      ]
    },
    {
      "cell_type": "code",
      "source": [
        "# evaluate MNIST\n",
        "with torch.no_grad():\n",
        "  correct = 0\n",
        "  total = 0\n",
        "  for test_data,test_labels in test_dataloader:\n",
        "    # move data to gpu\n",
        "    test_data,test_labels = test_data.to(device),test_labels.to(device)\n",
        "\n",
        "    y_pred = model(test_data)\n",
        "    _,predicted = torch.max(y_pred.data,1)\n",
        "    total += test_labels.size(0)\n",
        "    correct += (predicted == test_labels).sum().item()\n",
        "print(f\"Accuracy = {correct/total}\")"
      ],
      "metadata": {
        "id": "qCE4f_tdugKX",
        "outputId": "a0eb80aa-3ebb-49ac-9e1c-a502938677b6",
        "colab": {
          "base_uri": "https://localhost:8080/"
        }
      },
      "execution_count": 40,
      "outputs": [
        {
          "output_type": "stream",
          "name": "stdout",
          "text": [
            "Accuracy = 0.8673\n"
          ]
        }
      ]
    },
    {
      "cell_type": "code",
      "source": [
        "with torch.no_grad():\n",
        "  correct = 0\n",
        "  total = 0\n",
        "  for train_data,train_labels in train_dataloader:\n",
        "    # move data to gpu\n",
        "    train_data,train_labels = train_data.to(device),train_labels.to(device)\n",
        "\n",
        "    y_pred = model(train_data)\n",
        "    _,predicted = torch.max(y_pred.data,1)\n",
        "    total += train_labels.size(0)\n",
        "    correct += (predicted == train_labels).sum().item()\n",
        "print(f\"Accuracy = {correct/total}\")"
      ],
      "metadata": {
        "id": "gNt1VhRK3PfY",
        "outputId": "4695b594-8a08-4bd3-9118-2d1d38393a16",
        "colab": {
          "base_uri": "https://localhost:8080/"
        }
      },
      "execution_count": 41,
      "outputs": [
        {
          "output_type": "stream",
          "name": "stdout",
          "text": [
            "Accuracy = 0.87035\n"
          ]
        }
      ]
    },
    {
      "cell_type": "markdown",
      "source": [
        "#### Problem 4\n",
        "##### Loading and Preprocessing Data:\n",
        "\n",
        "- Download the CIFAR-10 dataset using torchvision.datasets.\n",
        "- Apply basic transformations to the images, such as normalization and converting to tensors using torchvision.transforms.\n",
        "- Create DataLoader instances for training and testing."
      ],
      "metadata": {
        "id": "OcTtYFjkz7c5"
      }
    },
    {
      "cell_type": "code",
      "source": [],
      "metadata": {
        "id": "bBh6Lvv_0HnP"
      },
      "execution_count": null,
      "outputs": []
    },
    {
      "cell_type": "markdown",
      "source": [
        "#### Problem 5\n",
        "##### Working with Gradients:\n",
        "\n",
        "- Create a simple scalar tensor and set requires_grad=True.\n",
        "- Perform some operations on it.\n",
        "- Calculate the gradients using backward().\n",
        "- Inspect the grad attribute of the tensor."
      ],
      "metadata": {
        "id": "X2h6X3Zm0IWq"
      }
    },
    {
      "cell_type": "code",
      "source": [
        "import torch\n",
        "\n",
        "x = torch.tensor(1200.0, requires_grad = True)\n",
        "y = 2*x\n",
        "z = torch.sin(y)\n",
        "z.backward()\n",
        "print(x.grad)\n",
        "def dz_dx():\n",
        "  return 2*torch.cos(2*x)\n",
        "print(dz_dx())"
      ],
      "metadata": {
        "id": "88hpqgX90Rwi",
        "outputId": "ebdb9638-53ce-4666-f951-6eabf1085ff8",
        "colab": {
          "base_uri": "https://localhost:8080/"
        }
      },
      "execution_count": 8,
      "outputs": [
        {
          "output_type": "stream",
          "name": "stdout",
          "text": [
            "tensor(1.9688)\n",
            "tensor(1.9688, grad_fn=<MulBackward0>)\n"
          ]
        }
      ]
    },
    {
      "cell_type": "markdown",
      "source": [
        "### Level 2"
      ],
      "metadata": {
        "id": "Rskkw8-80STN"
      }
    },
    {
      "cell_type": "markdown",
      "source": [
        "#### Problem 1\n",
        "##### Convolutional Neural Network (CNN) for Image Classification:\n",
        "\n",
        "- Use the CIFAR-10 dataset again.\n",
        "- Build a CNN with convolutional layers, pooling layers, and fully connected layers.\n",
        "- Train the CNN and compare its performance to the simple fully connected network from the beginner level."
      ],
      "metadata": {
        "id": "hfWkGjLe0q9Y"
      }
    },
    {
      "cell_type": "code",
      "source": [],
      "metadata": {
        "id": "olxJcrV20ib6"
      },
      "execution_count": null,
      "outputs": []
    },
    {
      "cell_type": "markdown",
      "source": [
        "#### Problem 2\n",
        "##### Transfer Learning:\n",
        "\n",
        "- Use a pre-trained ResNet model from torchvision.models.\n",
        "- Freeze the weights of the pre-trained layers and train only the classification head on a smaller image dataset (e.g., a subset of CIFAR-10 or a custom dataset)."
      ],
      "metadata": {
        "id": "jEDqdujk0z8J"
      }
    },
    {
      "cell_type": "code",
      "source": [],
      "metadata": {
        "id": "qf9z7dI81Fvz"
      },
      "execution_count": null,
      "outputs": []
    },
    {
      "cell_type": "markdown",
      "source": [
        "#### Problem 3\n",
        "##### Modified LeNet Architecture\n",
        "Your LeNet architecture must incorporate the following changes:\n",
        "- Include a softmax layer at the end.\n",
        "- Use x*sigmoid(x) as the activation function.\n",
        "- Replace average pooling with max pooling.\n",
        "- Use only 3×3 filters in convolutional layers.\n",
        "\n",
        "Note:\n",
        "- Input Size: 32x32 pixels.\n",
        "- C1(6),S2(6),C3(16),S4(16),C5(120),S6(84),output(10)\n"
      ],
      "metadata": {
        "id": "oz37TGAj1Gt9"
      }
    },
    {
      "cell_type": "code",
      "source": [],
      "metadata": {
        "id": "81gOGjvV1z2K"
      },
      "execution_count": null,
      "outputs": []
    },
    {
      "cell_type": "markdown",
      "source": [
        "#### Problem 4\n",
        "##### Object Detection (using a pre-trained model):\n",
        "\n",
        "- Explore how to use a pre-trained object detection model from libraries like torchvision.models.detection (e.g., Faster R-CNN, YOLO).\n",
        "- Try to run inference on some images. (Training from scratch can be computationally intensive)."
      ],
      "metadata": {
        "id": "xpkcwCRf2oM-"
      }
    },
    {
      "cell_type": "code",
      "source": [],
      "metadata": {
        "id": "IRJteUqe22qT"
      },
      "execution_count": null,
      "outputs": []
    }
  ],
  "metadata": {
    "colab": {
      "name": "Welcome To Colab",
      "toc_visible": true,
      "provenance": [],
      "gpuType": "T4",
      "include_colab_link": true
    },
    "kernelspec": {
      "display_name": "Python 3",
      "name": "python3"
    },
    "accelerator": "GPU"
  },
  "nbformat": 4,
  "nbformat_minor": 0
}
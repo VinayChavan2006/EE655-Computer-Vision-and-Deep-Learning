{
  "cells": [
    {
      "cell_type": "markdown",
      "metadata": {
        "id": "view-in-github",
        "colab_type": "text"
      },
      "source": [
        "<a href=\"https://colab.research.google.com/github/VinayChavan2006/EE655-Computer-Vision-and-Deep-Learning/blob/main/Pytorch_practise.ipynb\" target=\"_parent\"><img src=\"https://colab.research.google.com/assets/colab-badge.svg\" alt=\"Open In Colab\"/></a>"
      ]
    },
    {
      "cell_type": "markdown",
      "source": [
        "### Pytorch Problems"
      ],
      "metadata": {
        "id": "hz3uDU9ysw_W"
      }
    },
    {
      "cell_type": "markdown",
      "source": [
        "### Level 1"
      ],
      "metadata": {
        "id": "m8ZM3N7t0W5k"
      }
    },
    {
      "cell_type": "markdown",
      "source": [
        "#### Problem 1\n",
        "##### Tensor Basics:\n",
        "\n",
        "- Create a random tensor of size (5, 3).\n",
        "- Perform element-wise addition, subtraction, multiplication, and division between two tensors of the same size.\n",
        "- Calculate the mean and standard deviation of a tensor.\n",
        "- Reshape a tensor from (4, 4) to (16,) and then back to (2, 8).\n",
        "- Convert a NumPy array to a PyTorch tensor and vice versa."
      ],
      "metadata": {
        "id": "QvGp98jDs5Ix"
      }
    },
    {
      "cell_type": "code",
      "source": [
        "import torch\n",
        "import numpy as np\n",
        "\n",
        "# create random tensor of size (5,3)\n",
        "tensor1 = torch.rand(5,3)\n",
        "print(tensor1)\n",
        "print(\"\\n\\n\")\n",
        "\n",
        "# some more tensors\n",
        "t_ones = torch.ones(4,3)\n",
        "t_zeros = torch.zeros(3,3)\n",
        "t_range = torch.arange(10,dtype=torch.float32)\n",
        "t_lin = torch.linspace(1,10,3)\n",
        "\n",
        "tensors = [t_ones,t_zeros,t_range,t_lin]\n",
        "for tensor in tensors:\n",
        "  print(tensor)\n",
        "  print(tensor.dtype,tensor.shape,tensor.dim)\n",
        "  print(\"\\n\\n\")\n",
        "\n",
        "# Element wise operations\n",
        "t1 = torch.randint(0,20,(3,4))\n",
        "t2 = torch.randint(0,25,(3,4))\n",
        "\n",
        "print(t1)\n",
        "print(t2)\n",
        "print(t1+t2)\n",
        "print(\"\\n\\n\")\n",
        "print(t1 - t2)\n",
        "print(\"\\n\\n\")\n",
        "print(t1 * t2)\n",
        "print(\"\\n\\n\")\n",
        "print(torch.div(t1,t2))\n",
        "\n",
        "# mean and std of a tensor\n",
        "ten1 = torch.Tensor([[1,2,3],[4,5,6],[7,8,9]])\n",
        "print(\"mean\",ten1.mean())\n",
        "print(\"median: \",ten1.median())\n",
        "print(\"std: \",ten1.std())\n",
        "\n",
        "\n",
        "# reshape_tensor\n",
        "re_ten = torch.randint(0,10,(4,4))\n",
        "print(re_ten)\n",
        "print(re_ten.view(16))\n",
        "print(re_ten.view(-1,8))\n",
        "\n",
        "# covert a numpy array in to torch tensor and vice versa\n",
        "np_arr = np.array([[100,200,300],[120,240,360],[200,300,400]])\n",
        "np_tens = torch.Tensor(np_arr)\n",
        "print(np_tens)\n",
        "\n",
        "tens_arr = torch.randn(3,3)\n",
        "tens_np = np.array(tens_arr)\n",
        "print(tens_np)\n"
      ],
      "metadata": {
        "colab": {
          "base_uri": "https://localhost:8080/"
        },
        "id": "2B2MAu82s7et",
        "outputId": "a35056ad-a158-473d-d53b-5b16b426318b"
      },
      "execution_count": 3,
      "outputs": [
        {
          "output_type": "stream",
          "name": "stdout",
          "text": [
            "tensor([[0.7125, 0.3412, 0.9735],\n",
            "        [0.2806, 0.7881, 0.4378],\n",
            "        [0.0670, 0.9736, 0.7880],\n",
            "        [0.8294, 0.4619, 0.3291],\n",
            "        [0.4015, 0.0828, 0.9700]])\n",
            "\n",
            "\n",
            "\n",
            "tensor([[1., 1., 1.],\n",
            "        [1., 1., 1.],\n",
            "        [1., 1., 1.],\n",
            "        [1., 1., 1.]])\n",
            "torch.float32 torch.Size([4, 3]) <built-in method dim of Tensor object at 0x7dddadcebef0>\n",
            "\n",
            "\n",
            "\n",
            "tensor([[0., 0., 0.],\n",
            "        [0., 0., 0.],\n",
            "        [0., 0., 0.]])\n",
            "torch.float32 torch.Size([3, 3]) <built-in method dim of Tensor object at 0x7dddadceb290>\n",
            "\n",
            "\n",
            "\n",
            "tensor([0., 1., 2., 3., 4., 5., 6., 7., 8., 9.])\n",
            "torch.float32 torch.Size([10]) <built-in method dim of Tensor object at 0x7dddadceb2f0>\n",
            "\n",
            "\n",
            "\n",
            "tensor([ 1.0000,  5.5000, 10.0000])\n",
            "torch.float32 torch.Size([3]) <built-in method dim of Tensor object at 0x7dddadcebcb0>\n",
            "\n",
            "\n",
            "\n",
            "tensor([[ 8, 15,  0, 18],\n",
            "        [18, 15,  8,  5],\n",
            "        [17,  0, 19,  7]])\n",
            "tensor([[19, 22,  4,  5],\n",
            "        [24, 15, 10, 18],\n",
            "        [22, 17, 15,  4]])\n",
            "tensor([[27, 37,  4, 23],\n",
            "        [42, 30, 18, 23],\n",
            "        [39, 17, 34, 11]])\n",
            "\n",
            "\n",
            "\n",
            "tensor([[-11,  -7,  -4,  13],\n",
            "        [ -6,   0,  -2, -13],\n",
            "        [ -5, -17,   4,   3]])\n",
            "\n",
            "\n",
            "\n",
            "tensor([[152, 330,   0,  90],\n",
            "        [432, 225,  80,  90],\n",
            "        [374,   0, 285,  28]])\n",
            "\n",
            "\n",
            "\n",
            "tensor([[0.4211, 0.6818, 0.0000, 3.6000],\n",
            "        [0.7500, 1.0000, 0.8000, 0.2778],\n",
            "        [0.7727, 0.0000, 1.2667, 1.7500]])\n",
            "mean tensor(5.)\n",
            "median:  tensor(5.)\n",
            "std:  tensor(2.7386)\n",
            "tensor([[1, 1, 1, 9],\n",
            "        [8, 5, 4, 0],\n",
            "        [5, 1, 4, 5],\n",
            "        [6, 8, 1, 8]])\n",
            "tensor([1, 1, 1, 9, 8, 5, 4, 0, 5, 1, 4, 5, 6, 8, 1, 8])\n",
            "tensor([[1, 1, 1, 9, 8, 5, 4, 0],\n",
            "        [5, 1, 4, 5, 6, 8, 1, 8]])\n",
            "tensor([[100., 200., 300.],\n",
            "        [120., 240., 360.],\n",
            "        [200., 300., 400.]])\n",
            "[[-0.82950234 -0.5576221   0.71351355]\n",
            " [ 0.4355734   1.2427807  -1.2014705 ]\n",
            " [-0.77172434  0.43246093  0.3663088 ]]\n"
          ]
        }
      ]
    },
    {
      "cell_type": "markdown",
      "source": [
        "#### Problem 2\n",
        "##### Simple Linear Regression:\n",
        "-\n",
        "Implement linear regression from scratch using PyTorch. Generate some synthetic data (e.g., y = 2x + 1 + noise).\n",
        "- Define a simple linear model with one input and one output.\n",
        "- Use torch.nn.MSELoss as the loss function and torch.optim.SGD for optimization.\n",
        "- Train the model for a few epochs and observe the loss decreasing."
      ],
      "metadata": {
        "id": "RXECncd0yms1"
      }
    },
    {
      "cell_type": "code",
      "source": [],
      "metadata": {
        "id": "FvtaXLQBzpwS"
      },
      "execution_count": null,
      "outputs": []
    },
    {
      "cell_type": "markdown",
      "source": [
        "#### Problem 3\n",
        "##### Basic Neural Network for Classification:\n",
        "\n",
        "- Use the MNIST dataset (available through torchvision.datasets) to train a simple neural network for digit classification.\n",
        "- Build a network with one or two fully connected layers.\n",
        "- Use torch.nn.CrossEntropyLoss as the loss function and torch.optim.Adam for optimization.\n",
        "- Train the model and calculate the accuracy on a test set."
      ],
      "metadata": {
        "id": "uJd6wrPEzr7t"
      }
    },
    {
      "cell_type": "code",
      "source": [],
      "metadata": {
        "id": "8-jHum4hz6QI"
      },
      "execution_count": null,
      "outputs": []
    },
    {
      "cell_type": "markdown",
      "source": [
        "#### Problem 4\n",
        "##### Loading and Preprocessing Data:\n",
        "\n",
        "- Download the CIFAR-10 dataset using torchvision.datasets.\n",
        "- Apply basic transformations to the images, such as normalization and converting to tensors using torchvision.transforms.\n",
        "- Create DataLoader instances for training and testing."
      ],
      "metadata": {
        "id": "OcTtYFjkz7c5"
      }
    },
    {
      "cell_type": "code",
      "source": [],
      "metadata": {
        "id": "bBh6Lvv_0HnP"
      },
      "execution_count": null,
      "outputs": []
    },
    {
      "cell_type": "markdown",
      "source": [
        "#### Problem 5\n",
        "##### Working with Gradients:\n",
        "\n",
        "- Create a simple scalar tensor and set requires_grad=True.\n",
        "- Perform some operations on it.\n",
        "- Calculate the gradients using backward().\n",
        "- Inspect the grad attribute of the tensor."
      ],
      "metadata": {
        "id": "X2h6X3Zm0IWq"
      }
    },
    {
      "cell_type": "code",
      "source": [],
      "metadata": {
        "id": "88hpqgX90Rwi"
      },
      "execution_count": null,
      "outputs": []
    },
    {
      "cell_type": "markdown",
      "source": [
        "### Level 2"
      ],
      "metadata": {
        "id": "Rskkw8-80STN"
      }
    },
    {
      "cell_type": "markdown",
      "source": [
        "#### Problem 1\n",
        "##### Convolutional Neural Network (CNN) for Image Classification:\n",
        "\n",
        "- Use the CIFAR-10 dataset again.\n",
        "- Build a CNN with convolutional layers, pooling layers, and fully connected layers.\n",
        "- Train the CNN and compare its performance to the simple fully connected network from the beginner level."
      ],
      "metadata": {
        "id": "hfWkGjLe0q9Y"
      }
    },
    {
      "cell_type": "code",
      "source": [],
      "metadata": {
        "id": "olxJcrV20ib6"
      },
      "execution_count": null,
      "outputs": []
    },
    {
      "cell_type": "markdown",
      "source": [
        "#### Problem 2\n",
        "##### Transfer Learning:\n",
        "\n",
        "- Use a pre-trained ResNet model from torchvision.models.\n",
        "- Freeze the weights of the pre-trained layers and train only the classification head on a smaller image dataset (e.g., a subset of CIFAR-10 or a custom dataset)."
      ],
      "metadata": {
        "id": "jEDqdujk0z8J"
      }
    },
    {
      "cell_type": "code",
      "source": [],
      "metadata": {
        "id": "qf9z7dI81Fvz"
      },
      "execution_count": null,
      "outputs": []
    },
    {
      "cell_type": "markdown",
      "source": [
        "#### Problem 3\n",
        "##### Modified LeNet Architecture\n",
        "Your LeNet architecture must incorporate the following changes:\n",
        "- Include a softmax layer at the end.\n",
        "- Use x*sigmoid(x) as the activation function.\n",
        "- Replace average pooling with max pooling.\n",
        "- Use only 3×3 filters in convolutional layers.\n",
        "\n",
        "Note:\n",
        "- Input Size: 32x32 pixels.\n",
        "- C1(6),S2(6),C3(16),S4(16),C5(120),S6(84),output(10)\n"
      ],
      "metadata": {
        "id": "oz37TGAj1Gt9"
      }
    },
    {
      "cell_type": "code",
      "source": [],
      "metadata": {
        "id": "81gOGjvV1z2K"
      },
      "execution_count": null,
      "outputs": []
    },
    {
      "cell_type": "markdown",
      "source": [
        "#### Problem 4\n",
        "##### Object Detection (using a pre-trained model):\n",
        "\n",
        "- Explore how to use a pre-trained object detection model from libraries like torchvision.models.detection (e.g., Faster R-CNN, YOLO).\n",
        "- Try to run inference on some images. (Training from scratch can be computationally intensive)."
      ],
      "metadata": {
        "id": "xpkcwCRf2oM-"
      }
    },
    {
      "cell_type": "code",
      "source": [],
      "metadata": {
        "id": "IRJteUqe22qT"
      },
      "execution_count": null,
      "outputs": []
    }
  ],
  "metadata": {
    "colab": {
      "name": "Welcome To Colab",
      "toc_visible": true,
      "provenance": [],
      "gpuType": "T4",
      "include_colab_link": true
    },
    "kernelspec": {
      "display_name": "Python 3",
      "name": "python3"
    },
    "accelerator": "GPU"
  },
  "nbformat": 4,
  "nbformat_minor": 0
}
{
  "cells": [
    {
      "cell_type": "markdown",
      "metadata": {
        "id": "view-in-github",
        "colab_type": "text"
      },
      "source": [
        "<a href=\"https://colab.research.google.com/github/VinayChavan2006/EE655-Computer-Vision-and-Deep-Learning/blob/main/Assignment-2.ipynb\" target=\"_parent\"><img src=\"https://colab.research.google.com/assets/colab-badge.svg\" alt=\"Open In Colab\"/></a>"
      ]
    },
    {
      "cell_type": "code",
      "source": [
        "# import libraries\n",
        "import numpy as np\n",
        "import torch\n",
        "from torchvision import datasets as datasets\n",
        "\n",
        "mnist_train_dat = datasets.MNIST(root='./data', train=True, download=True)\n",
        "mnist_test_dat = datasets.MNIST(root='./data', train=False, download=True)"
      ],
      "metadata": {
        "id": "rtmNBfjy5lHi"
      },
      "execution_count": null,
      "outputs": []
    },
    {
      "cell_type": "code",
      "source": [
        "# apply otsu algorithm\n",
        "# I want to maximise the inter class variance\n",
        "# interclass variance = w1*varw1 + w2* var w2\n",
        "def inter_class_variance(data,split_point):\n",
        "  class1 = data[:split_point]\n",
        "  class2 = data[split_point:]\n",
        "  mu1 = np.mean(class1)\n",
        "  mu2 = np.mean(class2)\n",
        "  mu_total = np.mean(np.concatenate((class1, class2)))\n",
        "  var1 = (mu1 - mu_total)**2\n",
        "  var2 = (mu2 - mu_total)**2\n",
        "  return var1 + var2\n",
        "\n",
        "def find_threshold(data):\n",
        "  data = np.sort(data)\n",
        "  max_var = 0\n",
        "  best_val = 0\n",
        "  for val in range(256):\n",
        "    inter_var = inter_class_variance(data,val)\n",
        "    if inter_var > max_var:\n",
        "      max_var = inter_var\n",
        "      best_val = val\n",
        "  return best_val\n",
        "\n",
        "thres = find_threshold(mnist_train_dat.data.numpy().reshape(-1))\n",
        "print(thres)\n",
        "\n"
      ],
      "metadata": {
        "colab": {
          "base_uri": "https://localhost:8080/",
          "height": 211
        },
        "id": "adxqAxyK6dA8",
        "outputId": "5f433339-dcc3-4a1c-9406-66d19febf694"
      },
      "execution_count": 1,
      "outputs": [
        {
          "output_type": "error",
          "ename": "NameError",
          "evalue": "name 'mnist_train_dat' is not defined",
          "traceback": [
            "\u001b[0;31m---------------------------------------------------------------------------\u001b[0m",
            "\u001b[0;31mNameError\u001b[0m                                 Traceback (most recent call last)",
            "\u001b[0;32m<ipython-input-1-6edf6e33c505>\u001b[0m in \u001b[0;36m<cell line: 0>\u001b[0;34m()\u001b[0m\n\u001b[1;32m     23\u001b[0m   \u001b[0;32mreturn\u001b[0m \u001b[0mbest_val\u001b[0m\u001b[0;34m\u001b[0m\u001b[0;34m\u001b[0m\u001b[0m\n\u001b[1;32m     24\u001b[0m \u001b[0;34m\u001b[0m\u001b[0m\n\u001b[0;32m---> 25\u001b[0;31m \u001b[0mthres\u001b[0m \u001b[0;34m=\u001b[0m \u001b[0mfind_threshold\u001b[0m\u001b[0;34m(\u001b[0m\u001b[0mmnist_train_dat\u001b[0m\u001b[0;34m.\u001b[0m\u001b[0mdata\u001b[0m\u001b[0;34m.\u001b[0m\u001b[0mnumpy\u001b[0m\u001b[0;34m(\u001b[0m\u001b[0;34m)\u001b[0m\u001b[0;34m.\u001b[0m\u001b[0mreshape\u001b[0m\u001b[0;34m(\u001b[0m\u001b[0;34m-\u001b[0m\u001b[0;36m1\u001b[0m\u001b[0;34m)\u001b[0m\u001b[0;34m)\u001b[0m\u001b[0;34m\u001b[0m\u001b[0;34m\u001b[0m\u001b[0m\n\u001b[0m\u001b[1;32m     26\u001b[0m \u001b[0mprint\u001b[0m\u001b[0;34m(\u001b[0m\u001b[0mthres\u001b[0m\u001b[0;34m)\u001b[0m\u001b[0;34m\u001b[0m\u001b[0;34m\u001b[0m\u001b[0m\n\u001b[1;32m     27\u001b[0m \u001b[0;34m\u001b[0m\u001b[0m\n",
            "\u001b[0;31mNameError\u001b[0m: name 'mnist_train_dat' is not defined"
          ]
        }
      ]
    },
    {
      "cell_type": "code",
      "source": [
        "# video background subtraction\n",
        "\n",
        "import cv2\n",
        "import numpy as np\n",
        "\n",
        "video = cv2.VideoCapture(r\"C:\\Users\\vinay\\OneDrive\\Desktop\\courses\\Sem-4\\EE655\\q5_18a4ee81-96e1-4415-94a6-c8e9521bce78\\q5\\denis_walk.avi\")\n",
        "bg_image = cv2.imread(r\"C:\\Users\\vinay\\OneDrive\\Desktop\\courses\\Sem-4\\EE655\\q5_18a4ee81-96e1-4415-94a6-c8e9521bce78\\q5\\bg.png\")\n",
        "\n",
        "if not video.isOpened():\n",
        "    print(\"Cannot open video\")\n",
        "    exit()\n",
        "\n",
        "# read the first frame take it as background\n",
        "ret, frame = video.read()\n",
        "initialFrame = frame\n",
        "\n",
        "frames = []\n",
        "\n",
        "while True:\n",
        "    ret, frame = video.read()\n",
        "    if not ret:\n",
        "        break\n",
        "    frames.append(frame)\n",
        "\n",
        "    if cv2.waitKey(100) and ord('q') == 0xFF:\n",
        "        break\n",
        "\n",
        "for i in range(len(frames)-1):\n",
        "    # frame difference\n",
        "    # cv2.imshow(\"vid1\",frames[i+1] - frames[i] + bg_image)\n",
        "\n",
        "    # frame - avg. frame\n",
        "    avg_frame = np.mean(frames, axis=0).astype(np.uint8)\n",
        "    cv2.imshow(\"vid2\", frames[i+1] - avg_frame + bg_image)\n",
        "\n",
        "    # frame - initial frame\n",
        "    # cv2.imshow(\"vid3\", frames[i+1] - initialFrame + bg_image)\n",
        "\n",
        "    if cv2.waitKey(200) and ord('q') == 0xFF:\n",
        "        break\n",
        "\n",
        "\n",
        "video.release()\n",
        "cv2.destroyAllWindows()\n"
      ],
      "metadata": {
        "colab": {
          "base_uri": "https://localhost:8080/"
        },
        "id": "LlEvz5de8Opd",
        "outputId": "3d73bc65-2093-4a90-e97a-20d56eb37f6d"
      },
      "execution_count": null,
      "outputs": [
        {
          "output_type": "stream",
          "name": "stdout",
          "text": [
            "Cannot open video\n"
          ]
        }
      ]
    }
  ],
  "metadata": {
    "colab": {
      "name": "Welcome To Colab",
      "provenance": [],
      "gpuType": "T4",
      "include_colab_link": true
    },
    "kernelspec": {
      "display_name": "Python 3",
      "name": "python3"
    },
    "accelerator": "GPU"
  },
  "nbformat": 4,
  "nbformat_minor": 0
}
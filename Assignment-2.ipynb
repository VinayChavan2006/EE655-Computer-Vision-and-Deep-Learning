{
  "cells": [
    {
      "cell_type": "markdown",
      "metadata": {
        "id": "view-in-github",
        "colab_type": "text"
      },
      "source": [
        "<a href=\"https://colab.research.google.com/github/VinayChavan2006/EE655-Computer-Vision-and-Deep-Learning/blob/main/Assignment-2.ipynb\" target=\"_parent\"><img src=\"https://colab.research.google.com/assets/colab-badge.svg\" alt=\"Open In Colab\"/></a>"
      ]
    },
    {
      "cell_type": "code",
      "source": [
        "# import libraries\n",
        "import numpy as np\n",
        "import torch\n",
        "from torchvision import datasets\n",
        "import cv2\n",
        "\n",
        "mnist_train = datasets.MNIST(root='./data', train=True, download=True)\n",
        "mnist_test = datasets.MNIST(root='./data', train=False, download=True)\n",
        "\n",
        "images_train = mnist_train.data.numpy()\n",
        "images_test = mnist_test.data.numpy()\n",
        "labels_train = mnist_train.targets.numpy()\n",
        "labels_test = mnist_test.targets.numpy()"
      ],
      "metadata": {
        "id": "rtmNBfjy5lHi"
      },
      "execution_count": 6,
      "outputs": []
    },
    {
      "cell_type": "code",
      "source": [
        "# apply otsu algorithm\n",
        "# I want to maximise the inter class variance\n",
        "# interclass variance = w1*varw1 + w2* var w2\n",
        "def inter_class_variance(data,split_point):\n",
        "  class1 = data[:split_point]\n",
        "  class2 = data[split_point:]\n",
        "  mu1 = np.mean(class1)\n",
        "  mu2 = np.mean(class2)\n",
        "  mu_total = np.mean(np.concatenate((class1, class2)))\n",
        "  var1 = (mu1 - mu_total)**2\n",
        "  var2 = (mu2 - mu_total)**2\n",
        "  return var1 + var2\n",
        "\n",
        "def find_threshold(data):\n",
        "  data = np.sort(data)\n",
        "  max_var = 0\n",
        "  best_val = 0\n",
        "  for val in range(256):\n",
        "    inter_var = inter_class_variance(data,val)\n",
        "    if inter_var > max_var:\n",
        "      max_var = inter_var\n",
        "      best_val = val\n",
        "  return best_val\n",
        "\n",
        "# Function to apply Otsu thresholding and create masks\n",
        "def apply_otsu_threshold(image):\n",
        "    # Apply Otsu thresholding\n",
        "    _, mask = cv2.threshold(image, 0, 255, cv2.THRESH_BINARY + cv2.THRESH_OTSU)\n",
        "    return mask\n",
        "\n",
        "masked_train = np.array([apply_otsu_threshold(img) for img in images_train])\n",
        "masked_test = np.array([apply_otsu_threshold(img) for img in images_test])\n",
        "\n"
      ],
      "metadata": {
        "colab": {
          "base_uri": "https://localhost:8080/",
          "height": 447
        },
        "id": "adxqAxyK6dA8",
        "outputId": "927c257f-9b71-4e05-99a0-a43be3a0dce4"
      },
      "execution_count": 10,
      "outputs": [
        {
          "output_type": "execute_result",
          "data": {
            "text/plain": [
              "<matplotlib.image.AxesImage at 0x7b7a9a40fc10>"
            ]
          },
          "metadata": {},
          "execution_count": 10
        },
        {
          "output_type": "display_data",
          "data": {
            "text/plain": [
              "<Figure size 640x480 with 1 Axes>"
            ],
            "image/png": "[encoded data removed]"
          },
          "metadata": {}
        }
      ]
    },
    {
      "cell_type": "code",
      "source": [
        "# Tight Ground Truth Circles\n",
        "def get_tight_circle(mask):\n",
        "    contours, _ = cv2.findContours(mask, cv2.RETR_EXTERNAL, cv2.CHAIN_APPROX_SIMPLE)\n",
        "    if not contours:\n",
        "        return [14, 14, 10]  # Default circle if no contour\n",
        "    contour = max(contours, key=cv2.contourArea)\n",
        "    (x, y), radius = cv2.minEnclosingCircle(contour)\n",
        "    return [x, y, radius]\n",
        "\n",
        "circles_train = np.array([get_tight_circle(mask) + [label] for mask, label in zip(masked_train, labels_train)])\n",
        "circles_test = np.array([get_tight_circle(mask) + [label] for mask, label in zip(masked_test, labels_test)])\n"
      ],
      "metadata": {
        "id": "uOV7bJyymS0D"
      },
      "execution_count": null,
      "outputs": []
    },
    {
      "cell_type": "code",
      "source": [
        "# video background subtraction\n",
        "\n",
        "import cv2\n",
        "import numpy as np\n",
        "\n",
        "video = cv2.VideoCapture(r\"C:\\Users\\vinay\\OneDrive\\Desktop\\courses\\Sem-4\\EE655\\q5_18a4ee81-96e1-4415-94a6-c8e9521bce78\\q5\\denis_walk.avi\")\n",
        "bg_image = cv2.imread(r\"C:\\Users\\vinay\\OneDrive\\Desktop\\courses\\Sem-4\\EE655\\q5_18a4ee81-96e1-4415-94a6-c8e9521bce78\\q5\\bg.png\")\n",
        "\n",
        "frames = []\n",
        "\n",
        "while True:\n",
        "    ret, frame = video.read()\n",
        "\n",
        "    if not ret:\n",
        "        break\n",
        "    # frame = cv2.cvtColor(frame,cv2.COLOR_BGR2GRAY)\n",
        "    frames.append(frame)\n",
        "\n",
        "\n",
        "initialFrame = frames[0]\n",
        "\n",
        "def averageFrame(frames):\n",
        "    add_frame = np.zeros(np.shape(frames[0]))\n",
        "    for i in range(len(frames)):\n",
        "        add_frame = add_frame + frames[i]\n",
        "    return ((add_frame)/len(frames))\n",
        "\n",
        "avg_frame = np.array(averageFrame(frames),dtype=np.uint8)\n",
        "\n",
        "for i in range(len(frames)):\n",
        "    # frame difference\n",
        "    # cv2.imshow(\"vid1\",frames[i+1] - frames[i])\n",
        "\n",
        "    # frame - avg. frame\n",
        "    # print(avg_frame)\n",
        "    abs_mat = abs(frames[i] - avg_frame)\n",
        "    # Convert difference to grayscale\n",
        "    gray = cv2.cvtColor(abs_mat, cv2.COLOR_BGR2GRAY)\n",
        "\n",
        "    # Apply Otsu's thresholding\n",
        "    _, otsu_threshold = cv2.threshold(gray, 0, 255, cv2.THRESH_BINARY + cv2.THRESH_OTSU)\n",
        "\n",
        "\n",
        "    new_vid_frame = np.zeros_like(frames[i])\n",
        "    for j in range(frames[0].shape[0]):\n",
        "        for k in range(frames[0].shape[1]):\n",
        "            if otsu_threshold[j,k] == 255:\n",
        "                new_vid_frame[j,k] = frames[i][j,k]\n",
        "            else:\n",
        "                new_vid_frame[j,k] = bg_image[j,k]\n",
        "\n",
        "    cv2.imshow(\"video\",new_vid_frame)\n",
        "\n",
        "    # frame - initial frame\n",
        "    # cv2.imshow(\"vid3\", frames[i+1] - initialFrame)\n",
        "\n",
        "    cv2.waitKey(40)\n",
        "\n",
        "video.release()\n",
        "cv2.destroyAllWindows()\n"
      ],
      "metadata": {
        "colab": {
          "base_uri": "https://localhost:8080/"
        },
        "id": "LlEvz5de8Opd",
        "outputId": "3d73bc65-2093-4a90-e97a-20d56eb37f6d"
      },
      "execution_count": null,
      "outputs": [
        {
          "output_type": "stream",
          "name": "stdout",
          "text": [
            "Cannot open video\n"
          ]
        }
      ]
    }
  ],
  "metadata": {
    "colab": {
      "name": "Welcome To Colab",
      "provenance": [],
      "gpuType": "T4",
      "include_colab_link": true
    },
    "kernelspec": {
      "display_name": "Python 3",
      "name": "python3"
    },
    "accelerator": "GPU"
  },
  "nbformat": 4,
  "nbformat_minor": 0
}
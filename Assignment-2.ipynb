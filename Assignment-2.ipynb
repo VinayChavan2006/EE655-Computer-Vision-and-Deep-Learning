{
  "cells": [
    {
      "cell_type": "markdown",
      "metadata": {
        "id": "view-in-github",
        "colab_type": "text"
      },
      "source": [
        "<a href=\"https://colab.research.google.com/github/VinayChavan2006/EE655-Computer-Vision-and-Deep-Learning/blob/main/Assignment-2.ipynb\" target=\"_parent\"><img src=\"https://colab.research.google.com/assets/colab-badge.svg\" alt=\"Open In Colab\"/></a>"
      ]
    },
    {
      "cell_type": "code",
      "source": [
        "# import libraries\n",
        "import numpy as np\n",
        "import torch\n",
        "from torchvision import datasets as datasets\n",
        "\n",
        "mnist_train_dat = datasets.MNIST(root='./data', train=True, download=True)\n",
        "mnist_test_dat = datasets.MNIST(root='./data', train=False, download=True)"
      ],
      "metadata": {
        "id": "rtmNBfjy5lHi"
      },
      "execution_count": 8,
      "outputs": []
    },
    {
      "cell_type": "code",
      "source": [
        "# data loader to laod data in batches\n"
      ],
      "metadata": {
        "colab": {
          "base_uri": "https://localhost:8080/",
          "height": 430
        },
        "id": "adxqAxyK6dA8",
        "outputId": "6632cdef-8404-4d1f-ac76-028be0047eb7"
      },
      "execution_count": 12,
      "outputs": [
        {
          "output_type": "display_data",
          "data": {
            "text/plain": [
              "<Figure size 640x480 with 1 Axes>"
            ],
            "image/png": "[encoded data removed]"
          },
          "metadata": {}
        }
      ]
    },
    {
      "cell_type": "code",
      "source": [
        "# video background subtraction\n",
        "\n",
        "import cv2\n",
        "import numpy as np\n",
        "\n",
        "video = cv2.VideoCapture(r\"C:\\Users\\vinay\\OneDrive\\Desktop\\courses\\Sem-4\\EE655\\q5_18a4ee81-96e1-4415-94a6-c8e9521bce78\\q5\\denis_walk.avi\")\n",
        "bg_image = cv2.imread(r\"C:\\Users\\vinay\\OneDrive\\Desktop\\courses\\Sem-4\\EE655\\q5_18a4ee81-96e1-4415-94a6-c8e9521bce78\\q5\\bg.png\")\n",
        "\n",
        "if not video.isOpened():\n",
        "    print(\"Cannot open video\")\n",
        "    exit()\n",
        "\n",
        "# read the first frame take it as background\n",
        "ret, frame = video.read()\n",
        "initialFrame = frame\n",
        "\n",
        "frames = []\n",
        "\n",
        "while True:\n",
        "    ret, frame = video.read()\n",
        "    if not ret:\n",
        "        break\n",
        "    frames.append(frame)\n",
        "\n",
        "    if cv2.waitKey(100) and ord('q') == 0xFF:\n",
        "        break\n",
        "\n",
        "for i in range(len(frames)-1):\n",
        "    # frame difference\n",
        "    # cv2.imshow(\"vid1\",frames[i+1] - frames[i] + bg_image)\n",
        "\n",
        "    # frame - avg. frame\n",
        "    avg_frame = np.mean(frames, axis=0).astype(np.uint8)\n",
        "    cv2.imshow(\"vid2\", frames[i+1] - avg_frame + bg_image)\n",
        "\n",
        "    # frame - initial frame\n",
        "    # cv2.imshow(\"vid3\", frames[i+1] - initialFrame + bg_image)\n",
        "\n",
        "    if cv2.waitKey(200) and ord('q') == 0xFF:\n",
        "        break\n",
        "\n",
        "\n",
        "video.release()\n",
        "cv2.destroyAllWindows()\n",
        ""
      ],
      "metadata": {
        "colab": {
          "base_uri": "https://localhost:8080/"
        },
        "id": "LlEvz5de8Opd",
        "outputId": "3d73bc65-2093-4a90-e97a-20d56eb37f6d"
      },
      "execution_count": 13,
      "outputs": [
        {
          "output_type": "stream",
          "name": "stdout",
          "text": [
            "Cannot open video\n"
          ]
        }
      ]
    }
  ],
  "metadata": {
    "colab": {
      "name": "Welcome To Colab",
      "provenance": [],
      "gpuType": "T4",
      "include_colab_link": true
    },
    "kernelspec": {
      "display_name": "Python 3",
      "name": "python3"
    },
    "accelerator": "GPU"
  },
  "nbformat": 4,
  "nbformat_minor": 0
}